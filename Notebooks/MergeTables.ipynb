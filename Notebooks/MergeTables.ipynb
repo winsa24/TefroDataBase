{
 "cells": [
  {
   "cell_type": "code",
   "execution_count": 5,
   "metadata": {
    "colab": {
     "base_uri": "https://localhost:8080/"
    },
    "id": "IkWqRt7XSxGn",
    "outputId": "e2d2168f-206b-4c7d-d412-47c9493d42ed"
   },
   "outputs": [],
   "source": [
    "import pandas as pd\n",
    "\n",
    "a = pd.read_csv(\"../Data/fit_info.csv\")\n",
    "b = pd.read_csv(\"../Data/Volcanes.csv\")\n",
    "\n",
    "df = a.merge(b[['Volcano','Latitude','Longitude','Color']], on='Volcano', how='left', copy='False')"
   ]
  },
  {
   "cell_type": "code",
   "execution_count": 6,
   "metadata": {},
   "outputs": [
    {
     "data": {
      "text/plain": [
       "['Volcano',\n",
       " 'number of samples',\n",
       " 'polinomial fit coeff a/effusive regression',\n",
       " 'polinomial fit coeff b/effusive regression',\n",
       " 'number of samples for effusive regression',\n",
       " 'polinomial fit coeff a/bulk pyroclastic regression',\n",
       " 'polinomial fit coeff b/bulk pyroclastic regression',\n",
       " 'number of samples for bulk pyroclastic regression',\n",
       " 'fit case',\n",
       " 'R2_effusive_regression',\n",
       " 'RMSE_effusive_regression',\n",
       " 'R2_bulk_pyroclastic_regression',\n",
       " 'RMSE_bulk_pyroclastic_regression',\n",
       " 'R2_effusive_to_bulk_pyroclastic_regression',\n",
       " 'RMSE_effusive_to_bulk_pyroclastic_regression',\n",
       " 'R2_bulk_pyroclastic_to_effusive_regression',\n",
       " 'RMSE_bulk_pyroclastic_to_effusive_regression',\n",
       " 'polinomial fit coeff a/joint regression',\n",
       " 'polinomial fit coeff b/joint regression',\n",
       " 'number of samples for joint regression',\n",
       " 'Latitude',\n",
       " 'Longitude',\n",
       " 'Color']"
      ]
     },
     "execution_count": 6,
     "metadata": {},
     "output_type": "execute_result"
    }
   ],
   "source": [
    "list(df)"
   ]
  },
  {
   "cell_type": "code",
   "execution_count": 7,
   "metadata": {},
   "outputs": [],
   "source": [
    "df.rename(columns = {'number of samples':'number_of_samples', \n",
    "                     'polinomial fit coeff a/effusive regression':'effusive_regression_a',\n",
    "                    'polinomial fit coeff b/effusive regression':'effusive_regression_b',\n",
    "                    'number of samples for effusive regression':'effusive_regression_SampleNumber',\n",
    "                    'polinomial fit coeff a/bulk pyroclastic regression':'bulk_pyroclastic_regression_a',\n",
    "                    'polinomial fit coeff b/bulk pyroclastic regression':'bulk_pyroclastic_regression_b',\n",
    "                    'number of samples for bulk pyroclastic regression':'bulk_pyroclastic_regression_SampleNumber',\n",
    "                     'fit case':'fit_case',\n",
    "                     'polinomial fit coeff a/joint regression':'joint_regression_a',\n",
    "                     'polinomial fit coeff b/joint regression':'joint_regression_b',\n",
    "                     'number of samples for joint regression': 'joint_regression_SampleNumber'\n",
    "                    }, inplace = True)\n"
   ]
  },
  {
   "cell_type": "code",
   "execution_count": 8,
   "metadata": {},
   "outputs": [
    {
     "data": {
      "text/plain": [
       "['Volcano',\n",
       " 'number_of_samples',\n",
       " 'effusive_regression_a',\n",
       " 'effusive_regression_b',\n",
       " 'effusive_regression_SampleNumber',\n",
       " 'bulk_pyroclastic_regression_a',\n",
       " 'bulk_pyroclastic_regression_b',\n",
       " 'bulk_pyroclastic_regression_SampleNumber',\n",
       " 'fit_case',\n",
       " 'R2_effusive_regression',\n",
       " 'RMSE_effusive_regression',\n",
       " 'R2_bulk_pyroclastic_regression',\n",
       " 'RMSE_bulk_pyroclastic_regression',\n",
       " 'R2_effusive_to_bulk_pyroclastic_regression',\n",
       " 'RMSE_effusive_to_bulk_pyroclastic_regression',\n",
       " 'R2_bulk_pyroclastic_to_effusive_regression',\n",
       " 'RMSE_bulk_pyroclastic_to_effusive_regression',\n",
       " 'joint_regression_a',\n",
       " 'joint_regression_b',\n",
       " 'joint_regression_SampleNumber',\n",
       " 'Latitude',\n",
       " 'Longitude',\n",
       " 'Color']"
      ]
     },
     "execution_count": 8,
     "metadata": {},
     "output_type": "execute_result"
    }
   ],
   "source": [
    "list(df)"
   ]
  },
  {
   "cell_type": "code",
   "execution_count": 9,
   "metadata": {},
   "outputs": [],
   "source": [
    "df.to_csv(\"../Data/Volcanes_RL.csv\", index=False)"
   ]
  },
  {
   "cell_type": "code",
   "execution_count": 14,
   "metadata": {
    "colab": {
     "base_uri": "https://localhost:8080/"
    },
    "id": "2rnd4Xi6akx0",
    "outputId": "9cb87f56-ec38-4159-b7b2-1d94b5dfd4b2"
   },
   "outputs": [
    {
     "name": "stderr",
     "output_type": "stream",
     "text": [
      "/usr/local/lib/python3.7/dist-packages/IPython/core/interactiveshell.py:2882: DtypeWarning: Columns (7,14,20,21,29,30,31,44,49,53,59,76,77,78) have mixed types.Specify dtype option on import or set low_memory=False.\n",
      "  exec(code_obj, self.user_global_ns, self.user_ns)\n"
     ]
    }
   ],
   "source": [
    "# a = pd.read_csv(\"output1.csv\")\n",
    "# b = pd.read_csv(\"sampleObs_distances.csv\")\n",
    "\n",
    "# merged = a.merge(b[['SampleObservationID','SampleObservation_distance_to_regression']], on='SampleObservationID', how='left', copy='False')\n",
    "# merged.to_csv(\"TephraDataBase_renormalizado_distances.csv\", index=False)"
   ]
  }
 ],
 "metadata": {
  "colab": {
   "collapsed_sections": [],
   "name": "MergeTables.ipynb",
   "provenance": []
  },
  "kernelspec": {
   "display_name": "Python 3",
   "language": "python",
   "name": "python3"
  },
  "language_info": {
   "codemirror_mode": {
    "name": "ipython",
    "version": 3
   },
   "file_extension": ".py",
   "mimetype": "text/x-python",
   "name": "python",
   "nbconvert_exporter": "python",
   "pygments_lexer": "ipython3",
   "version": "3.6.10"
  }
 },
 "nbformat": 4,
 "nbformat_minor": 1
}
