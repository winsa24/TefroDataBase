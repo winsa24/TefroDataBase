{
 "cells": [
  {
   "cell_type": "code",
   "execution_count": 13,
   "metadata": {
    "colab": {
     "base_uri": "https://localhost:8080/"
    },
    "id": "IkWqRt7XSxGn",
    "outputId": "e2d2168f-206b-4c7d-d412-47c9493d42ed"
   },
   "outputs": [
    {
     "name": "stderr",
     "output_type": "stream",
     "text": [
      "/usr/local/lib/python3.7/dist-packages/IPython/core/interactiveshell.py:2882: DtypeWarning: Columns (7,14,20,21,29,30,31,44,49,53,59,76,77,78) have mixed types.Specify dtype option on import or set low_memory=False.\n",
      "  exec(code_obj, self.user_global_ns, self.user_ns)\n"
     ]
    }
   ],
   "source": [
    "import pandas as pd\n",
    "\n",
    "a = pd.read_excel(\"../Data/TephraDataBase_normalizado.x\")\n",
    "b = pd.read_csv(\"sample_distances.csv\")\n",
    "\n",
    "merged = a.merge(b[['SampleID','sample_RMSE_to_regression']], on='SampleID', how='left', copy='False')\n",
    "merged.to_csv(\"output1.csv\", index=False)"
   ]
  },
  {
   "cell_type": "code",
   "execution_count": 14,
   "metadata": {
    "colab": {
     "base_uri": "https://localhost:8080/"
    },
    "id": "2rnd4Xi6akx0",
    "outputId": "9cb87f56-ec38-4159-b7b2-1d94b5dfd4b2"
   },
   "outputs": [
    {
     "name": "stderr",
     "output_type": "stream",
     "text": [
      "/usr/local/lib/python3.7/dist-packages/IPython/core/interactiveshell.py:2882: DtypeWarning: Columns (7,14,20,21,29,30,31,44,49,53,59,76,77,78) have mixed types.Specify dtype option on import or set low_memory=False.\n",
      "  exec(code_obj, self.user_global_ns, self.user_ns)\n"
     ]
    }
   ],
   "source": [
    "a = pd.read_csv(\"output1.csv\")\n",
    "b = pd.read_csv(\"sampleObs_distances.csv\")\n",
    "\n",
    "merged = a.merge(b[['SampleObservationID','SampleObservation_distance_to_regression']], on='SampleObservationID', how='left', copy='False')\n",
    "merged.to_csv(\"TephraDataBase_renormalizado_distances.csv\", index=False)"
   ]
  }
 ],
 "metadata": {
  "colab": {
   "collapsed_sections": [],
   "name": "MergeTables.ipynb",
   "provenance": []
  },
  "kernelspec": {
   "display_name": "Python 3",
   "language": "python",
   "name": "python3"
  },
  "language_info": {
   "codemirror_mode": {
    "name": "ipython",
    "version": 3
   },
   "file_extension": ".py",
   "mimetype": "text/x-python",
   "name": "python",
   "nbconvert_exporter": "python",
   "pygments_lexer": "ipython3",
   "version": "3.6.10"
  }
 },
 "nbformat": 4,
 "nbformat_minor": 1
}
