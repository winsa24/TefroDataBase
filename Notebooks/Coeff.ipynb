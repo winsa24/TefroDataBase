{
 "cells": [
  {
   "cell_type": "code",
   "execution_count": 25,
   "metadata": {},
   "outputs": [],
   "source": [
    "import pandas as pd\n",
    "import numpy as np\n",
    "df = pd.read_csv(\"../Data/Volcanes_RL.csv\")"
   ]
  },
  {
   "cell_type": "code",
   "execution_count": 26,
   "metadata": {},
   "outputs": [
    {
     "data": {
      "text/plain": [
       "['Llaima',\n",
       " 'Sollipulli',\n",
       " 'Caburga-Huelemolle',\n",
       " 'Villarrica',\n",
       " 'Quetrupillán',\n",
       " 'Lanín',\n",
       " 'Huanquihue Group',\n",
       " 'Mocho-Choshuenco',\n",
       " 'Carrán-Los Venados',\n",
       " 'Puyehue-Cordón Caulle',\n",
       " 'Antillanca-Casablanca',\n",
       " 'Osorno',\n",
       " 'Calbuco',\n",
       " 'Yate',\n",
       " 'Apagado',\n",
       " 'Hornopirén',\n",
       " 'Huequi',\n",
       " 'Michinmahuida',\n",
       " 'Chaitén',\n",
       " 'Corcovado',\n",
       " 'Yanteles',\n",
       " 'Melimoyu',\n",
       " 'Mentolat',\n",
       " 'Cay',\n",
       " 'Macá',\n",
       " 'Hudson',\n",
       " 'Lautaro',\n",
       " 'Viedma',\n",
       " 'Aguilera',\n",
       " 'Reclus',\n",
       " 'Monte Burney']"
      ]
     },
     "execution_count": 26,
     "metadata": {},
     "output_type": "execute_result"
    }
   ],
   "source": [
    "Vs = df['Volcano'].tolist()\n",
    "Vs"
   ]
  },
  {
   "cell_type": "code",
   "execution_count": 27,
   "metadata": {},
   "outputs": [
    {
     "data": {
      "text/plain": [
       "[-2.5,\n",
       " nan,\n",
       " -10.825,\n",
       " -2.311,\n",
       " -6.756,\n",
       " -6.394,\n",
       " nan,\n",
       " nan,\n",
       " nan,\n",
       " -5.319,\n",
       " nan,\n",
       " nan,\n",
       " -1.374,\n",
       " -6.105,\n",
       " nan,\n",
       " nan,\n",
       " -2.605,\n",
       " -5.296,\n",
       " nan,\n",
       " nan,\n",
       " nan,\n",
       " -4.203,\n",
       " nan,\n",
       " nan,\n",
       " nan,\n",
       " -5.598,\n",
       " nan,\n",
       " nan,\n",
       " nan,\n",
       " -1.565,\n",
       " nan]"
      ]
     },
     "execution_count": 27,
     "metadata": {},
     "output_type": "execute_result"
    }
   ],
   "source": [
    "RLAs = df['joint_regression_a'].tolist()\n",
    "RLAs"
   ]
  },
  {
   "cell_type": "code",
   "execution_count": 28,
   "metadata": {},
   "outputs": [
    {
     "data": {
      "text/plain": [
       "[0.059,\n",
       " nan,\n",
       " 0.227,\n",
       " 0.056,\n",
       " 0.15,\n",
       " 0.145,\n",
       " nan,\n",
       " nan,\n",
       " nan,\n",
       " 0.115,\n",
       " nan,\n",
       " nan,\n",
       " 0.035,\n",
       " 0.13,\n",
       " nan,\n",
       " nan,\n",
       " 0.057,\n",
       " 0.123,\n",
       " nan,\n",
       " nan,\n",
       " nan,\n",
       " 0.101,\n",
       " nan,\n",
       " nan,\n",
       " nan,\n",
       " 0.13,\n",
       " nan,\n",
       " nan,\n",
       " nan,\n",
       " 0.047,\n",
       " nan]"
      ]
     },
     "execution_count": 28,
     "metadata": {},
     "output_type": "execute_result"
    }
   ],
   "source": [
    "RLBs = df['joint_regression_b'].tolist()\n",
    "RLBs"
   ]
  },
  {
   "cell_type": "code",
   "execution_count": 29,
   "metadata": {},
   "outputs": [
    {
     "data": {
      "text/html": [
       "<div>\n",
       "<style scoped>\n",
       "    .dataframe tbody tr th:only-of-type {\n",
       "        vertical-align: middle;\n",
       "    }\n",
       "\n",
       "    .dataframe tbody tr th {\n",
       "        vertical-align: top;\n",
       "    }\n",
       "\n",
       "    .dataframe thead th {\n",
       "        text-align: right;\n",
       "    }\n",
       "</style>\n",
       "<table border=\"1\" class=\"dataframe\">\n",
       "  <thead>\n",
       "    <tr style=\"text-align: right;\">\n",
       "      <th></th>\n",
       "      <th>Volcano</th>\n",
       "      <th>k</th>\n",
       "      <th>b</th>\n",
       "    </tr>\n",
       "  </thead>\n",
       "  <tbody>\n",
       "    <tr>\n",
       "      <th>0</th>\n",
       "      <td>Llaima</td>\n",
       "      <td>0.357965</td>\n",
       "      <td>16.615906</td>\n",
       "    </tr>\n",
       "    <tr>\n",
       "      <th>1</th>\n",
       "      <td>Sollipulli</td>\n",
       "      <td>NaN</td>\n",
       "      <td>NaN</td>\n",
       "    </tr>\n",
       "    <tr>\n",
       "      <th>2</th>\n",
       "      <td>Caburga-Huelemolle</td>\n",
       "      <td>1.243368</td>\n",
       "      <td>-42.558129</td>\n",
       "    </tr>\n",
       "    <tr>\n",
       "      <th>3</th>\n",
       "      <td>Villarrica</td>\n",
       "      <td>0.349137</td>\n",
       "      <td>20.256187</td>\n",
       "    </tr>\n",
       "    <tr>\n",
       "      <th>4</th>\n",
       "      <td>Quetrupillán</td>\n",
       "      <td>0.881418</td>\n",
       "      <td>0.791158</td>\n",
       "    </tr>\n",
       "    <tr>\n",
       "      <th>5</th>\n",
       "      <td>Lanín</td>\n",
       "      <td>0.874840</td>\n",
       "      <td>9.868491</td>\n",
       "    </tr>\n",
       "    <tr>\n",
       "      <th>6</th>\n",
       "      <td>Huanquihue Group</td>\n",
       "      <td>NaN</td>\n",
       "      <td>NaN</td>\n",
       "    </tr>\n",
       "    <tr>\n",
       "      <th>7</th>\n",
       "      <td>Mocho-Choshuenco</td>\n",
       "      <td>NaN</td>\n",
       "      <td>NaN</td>\n",
       "    </tr>\n",
       "    <tr>\n",
       "      <th>8</th>\n",
       "      <td>Carrán-Los Venados</td>\n",
       "      <td>NaN</td>\n",
       "      <td>NaN</td>\n",
       "    </tr>\n",
       "    <tr>\n",
       "      <th>9</th>\n",
       "      <td>Puyehue-Cordón Caulle</td>\n",
       "      <td>0.645483</td>\n",
       "      <td>-5.926830</td>\n",
       "    </tr>\n",
       "    <tr>\n",
       "      <th>10</th>\n",
       "      <td>Antillanca-Casablanca</td>\n",
       "      <td>NaN</td>\n",
       "      <td>NaN</td>\n",
       "    </tr>\n",
       "    <tr>\n",
       "      <th>11</th>\n",
       "      <td>Osorno</td>\n",
       "      <td>NaN</td>\n",
       "      <td>NaN</td>\n",
       "    </tr>\n",
       "    <tr>\n",
       "      <th>12</th>\n",
       "      <td>Calbuco</td>\n",
       "      <td>0.220524</td>\n",
       "      <td>21.016094</td>\n",
       "    </tr>\n",
       "    <tr>\n",
       "      <th>13</th>\n",
       "      <td>Yate</td>\n",
       "      <td>0.717146</td>\n",
       "      <td>-13.944795</td>\n",
       "    </tr>\n",
       "    <tr>\n",
       "      <th>14</th>\n",
       "      <td>Apagado</td>\n",
       "      <td>NaN</td>\n",
       "      <td>NaN</td>\n",
       "    </tr>\n",
       "    <tr>\n",
       "      <th>15</th>\n",
       "      <td>Hornopirén</td>\n",
       "      <td>NaN</td>\n",
       "      <td>NaN</td>\n",
       "    </tr>\n",
       "    <tr>\n",
       "      <th>16</th>\n",
       "      <td>Huequi</td>\n",
       "      <td>0.312094</td>\n",
       "      <td>4.247953</td>\n",
       "    </tr>\n",
       "    <tr>\n",
       "      <th>17</th>\n",
       "      <td>Michinmahuida</td>\n",
       "      <td>0.760248</td>\n",
       "      <td>18.118409</td>\n",
       "    </tr>\n",
       "    <tr>\n",
       "      <th>18</th>\n",
       "      <td>Chaitén</td>\n",
       "      <td>NaN</td>\n",
       "      <td>NaN</td>\n",
       "    </tr>\n",
       "    <tr>\n",
       "      <th>19</th>\n",
       "      <td>Corcovado</td>\n",
       "      <td>NaN</td>\n",
       "      <td>NaN</td>\n",
       "    </tr>\n",
       "    <tr>\n",
       "      <th>20</th>\n",
       "      <td>Yanteles</td>\n",
       "      <td>NaN</td>\n",
       "      <td>NaN</td>\n",
       "    </tr>\n",
       "    <tr>\n",
       "      <th>21</th>\n",
       "      <td>Melimoyu</td>\n",
       "      <td>0.644791</td>\n",
       "      <td>26.048094</td>\n",
       "    </tr>\n",
       "    <tr>\n",
       "      <th>22</th>\n",
       "      <td>Mentolat</td>\n",
       "      <td>NaN</td>\n",
       "      <td>NaN</td>\n",
       "    </tr>\n",
       "    <tr>\n",
       "      <th>23</th>\n",
       "      <td>Cay</td>\n",
       "      <td>NaN</td>\n",
       "      <td>NaN</td>\n",
       "    </tr>\n",
       "    <tr>\n",
       "      <th>24</th>\n",
       "      <td>Macá</td>\n",
       "      <td>NaN</td>\n",
       "      <td>NaN</td>\n",
       "    </tr>\n",
       "    <tr>\n",
       "      <th>25</th>\n",
       "      <td>Hudson</td>\n",
       "      <td>0.804908</td>\n",
       "      <td>18.526924</td>\n",
       "    </tr>\n",
       "    <tr>\n",
       "      <th>26</th>\n",
       "      <td>Lautaro</td>\n",
       "      <td>NaN</td>\n",
       "      <td>NaN</td>\n",
       "    </tr>\n",
       "    <tr>\n",
       "      <th>27</th>\n",
       "      <td>Viedma</td>\n",
       "      <td>NaN</td>\n",
       "      <td>NaN</td>\n",
       "    </tr>\n",
       "    <tr>\n",
       "      <th>28</th>\n",
       "      <td>Aguilera</td>\n",
       "      <td>NaN</td>\n",
       "      <td>NaN</td>\n",
       "    </tr>\n",
       "    <tr>\n",
       "      <th>29</th>\n",
       "      <td>Reclus</td>\n",
       "      <td>0.353637</td>\n",
       "      <td>42.641404</td>\n",
       "    </tr>\n",
       "    <tr>\n",
       "      <th>30</th>\n",
       "      <td>Monte Burney</td>\n",
       "      <td>NaN</td>\n",
       "      <td>NaN</td>\n",
       "    </tr>\n",
       "  </tbody>\n",
       "</table>\n",
       "</div>"
      ],
      "text/plain": [
       "                  Volcano         k          b\n",
       "0                  Llaima  0.357965  16.615906\n",
       "1              Sollipulli       NaN        NaN\n",
       "2      Caburga-Huelemolle  1.243368 -42.558129\n",
       "3              Villarrica  0.349137  20.256187\n",
       "4            Quetrupillán  0.881418   0.791158\n",
       "5                   Lanín  0.874840   9.868491\n",
       "6        Huanquihue Group       NaN        NaN\n",
       "7        Mocho-Choshuenco       NaN        NaN\n",
       "8      Carrán-Los Venados       NaN        NaN\n",
       "9   Puyehue-Cordón Caulle  0.645483  -5.926830\n",
       "10  Antillanca-Casablanca       NaN        NaN\n",
       "11                 Osorno       NaN        NaN\n",
       "12                Calbuco  0.220524  21.016094\n",
       "13                   Yate  0.717146 -13.944795\n",
       "14                Apagado       NaN        NaN\n",
       "15             Hornopirén       NaN        NaN\n",
       "16                 Huequi  0.312094   4.247953\n",
       "17          Michinmahuida  0.760248  18.118409\n",
       "18                Chaitén       NaN        NaN\n",
       "19              Corcovado       NaN        NaN\n",
       "20               Yanteles       NaN        NaN\n",
       "21               Melimoyu  0.644791  26.048094\n",
       "22               Mentolat       NaN        NaN\n",
       "23                    Cay       NaN        NaN\n",
       "24                   Macá       NaN        NaN\n",
       "25                 Hudson  0.804908  18.526924\n",
       "26                Lautaro       NaN        NaN\n",
       "27                 Viedma       NaN        NaN\n",
       "28               Aguilera       NaN        NaN\n",
       "29                 Reclus  0.353637  42.641404\n",
       "30           Monte Burney       NaN        NaN"
      ]
     },
     "execution_count": 29,
     "metadata": {},
     "output_type": "execute_result"
    }
   ],
   "source": [
    "coeff_info = pd.DataFrame()\n",
    "coeff_info['Volcano'] = Vs\n",
    "coeff_info['k'] = np.nan\n",
    "coeff_info['b'] = np.nan\n",
    "\n",
    "for i in range(len(Vs)):\n",
    "    v = Vs[i]\n",
    "    a = RLAs[i]\n",
    "    b = RLBs[i]\n",
    "    \n",
    "    p1 = [45, 45*b+a]\n",
    "    p2 = [80, 80*b+a]\n",
    "\n",
    "    i1 = [10, 296/4.5*p1[1]]\n",
    "    i2 = [390, 296/4.5*p2[1]]\n",
    "    \n",
    "    m = (i2[1] - 10)/(390 - 10)\n",
    "    n = (i1[1] - m*10)+10\n",
    "    \n",
    "    # write to df\n",
    "    index = coeff_info.index[coeff_info.Volcano == v].tolist()[0]\n",
    "    coeff_info.loc[index,'k'] = m\n",
    "    coeff_info.loc[index,'b'] = n\n",
    "coeff_info"
   ]
  },
  {
   "cell_type": "code",
   "execution_count": 30,
   "metadata": {},
   "outputs": [],
   "source": [
    "coeff_info.to_csv(r'../Data/coeff_info.csv', index=False)"
   ]
  },
  {
   "cell_type": "code",
   "execution_count": 2,
   "metadata": {},
   "outputs": [],
   "source": [
    "a = -2.5\n",
    "b = 0.059\n"
   ]
  },
  {
   "cell_type": "code",
   "execution_count": 3,
   "metadata": {},
   "outputs": [],
   "source": [
    "p1 = [45, 45*b+a]\n",
    "p2 = [80, 80*b+a]\n",
    "\n",
    "i1 = [10, 296/4.5*p1[1]]\n",
    "i2 = [390, 296/4.5*p2[1]]"
   ]
  },
  {
   "cell_type": "code",
   "execution_count": 4,
   "metadata": {},
   "outputs": [
    {
     "name": "stdout",
     "output_type": "stream",
     "text": [
      "[45, 0.1549999999999998] [80, 2.2199999999999998]\n"
     ]
    }
   ],
   "source": [
    "print(p1, p2)"
   ]
  },
  {
   "cell_type": "code",
   "execution_count": 5,
   "metadata": {},
   "outputs": [
    {
     "name": "stdout",
     "output_type": "stream",
     "text": [
      "[10, 10.195555555555542] [390, 146.02666666666664]\n"
     ]
    }
   ],
   "source": [
    "print(i1, i2)"
   ]
  },
  {
   "cell_type": "code",
   "execution_count": 7,
   "metadata": {},
   "outputs": [
    {
     "data": {
      "text/plain": [
       "0.3579649122807017"
      ]
     },
     "execution_count": 7,
     "metadata": {},
     "output_type": "execute_result"
    }
   ],
   "source": [
    "m = (i2[1] - 10)/(390 - 10)\n",
    "m"
   ]
  },
  {
   "cell_type": "code",
   "execution_count": 9,
   "metadata": {},
   "outputs": [
    {
     "data": {
      "text/plain": [
       "16.615906432748524"
      ]
     },
     "execution_count": 9,
     "metadata": {},
     "output_type": "execute_result"
    }
   ],
   "source": [
    "n = (i1[1] - m*10)+10\n",
    "n"
   ]
  },
  {
   "cell_type": "code",
   "execution_count": null,
   "metadata": {},
   "outputs": [],
   "source": []
  }
 ],
 "metadata": {
  "kernelspec": {
   "display_name": "Python 3",
   "language": "python",
   "name": "python3"
  },
  "language_info": {
   "codemirror_mode": {
    "name": "ipython",
    "version": 3
   },
   "file_extension": ".py",
   "mimetype": "text/x-python",
   "name": "python",
   "nbconvert_exporter": "python",
   "pygments_lexer": "ipython3",
   "version": "3.6.10"
  }
 },
 "nbformat": 4,
 "nbformat_minor": 4
}
